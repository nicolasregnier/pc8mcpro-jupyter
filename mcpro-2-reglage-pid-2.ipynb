{
 "cells": [
  {
   "cell_type": "markdown",
   "metadata": {},
   "source": [
    "# MCPRO > Simulation d'un régulateur de vitesse de véhicule (n° 2)\n",
    "L'objectif de cet exercice est de **réussir à régler un régulateur PID** de façon satisfaisante pour la régulation de vitesse d'un véhicule (cruise control en anglais).\n",
    "Dans un contexte prédéfini (véhicule donné et consigne de vitesse donnée), vous devez rechercher des valeurs \"optimales\" des paramètres du régulateur PID, c'est-à-dire : $k_P$, $k_I$, et $k_D$.\n",
    "\n",
    "Vous pouvez faire autant d'essais que vous le souhaitez, à vous de noter (éventuellement) les valeurs entre chaque tentative. Pour chaque tentative, le simulateur vous renverra un score qui doit être le plus élevé possible, et des graphiques montrant l'évolution des variables au cours du temps. Le score prend en compte différentes caractéristiques du résultat, et les graphiques peuvent vous aider à comprendre comment l'améliorer.\n",
    "\n",
    "## Comment procéder ?\n",
    "La page que vous consultez est un \"notebook jupyter\". Il s'agit d'un document interactif composé de \"cellules\" qui contiennent du texte (comme ce paragraphe par exemple) ou du code informatique (en langage Matlab/Octave dans le cas présent). Vous devrez modifier ce code (uniquement pour indiquer de nouvelles valeurs des paramètres du régulateur PID), puis l'exécuter pour obtenir de nouveaux résultats.\n",
    "\n",
    "### 1ère étape (à faire une seule fois) : initialiser le code\n",
    "Vous ne devez réaliser cette première étape qu'une seule fois (mais à chaque fois que vous ouvrez ou rouvrez ce notebook).\n",
    "1. Cliquez dans la première cellule de code (ci-dessous) --> une barre verticale bleue s'affiche à sa gauche, indiquant qu'elle est sélectionnée.\n",
    "2. Exécutez le code de cette cellule en cliquant sur `Run`![Image](images/run.png) dans la barre d'outils en haut de cette page, ou bien en appuyant sur les touches `maj`+`entrée`.\n",
    "\n",
    "Ne supprimez pas cette cellule, et ne modifiez pas son contenu !"
   ]
  },
  {
   "cell_type": "code",
   "execution_count": null,
   "metadata": {},
   "outputs": [],
   "source": [
    "%------------------------------------------------------------------------------------------\n",
    "% Première cellule de code\n",
    "%------------------------------------------------------------------------------------------\n",
    "% Ne modifiez PAS le contenu de cette cellule, mais exécutez-là une fois (bouton run)\n",
    "%------------------------------------------------------------------------------------------\n",
    "\n",
    "% Fonction de simulation du système en boucle fermée. Reçoit les paramètres du régulateur PID testé, et affiche les résultats.\n",
    "function simulateCloseLoop(k)\n",
    "\n",
    "    controller.kp = k(1);\n",
    "    controller.ki = k(2);\n",
    "    controller.kd = k(3);\n",
    "\n",
    "    % Caractéristiques du procédé contrôlé (véhicule)\n",
    "    process.name = 'Renault Clio 4 0.9 TC';\n",
    "    process.model.vmax = 182; % Vitesse maximum (km/h)\n",
    "    process.model.t100 = 13.3; % Temps de 0 à 100 km/h (s)\n",
    "\n",
    "    % Définition de la consigne (vitesse cible) sous forme d'échelons\n",
    "    setpoint.time = [0, 120, 240, 360]; % Temps (s)\n",
    "    setpoint.value = [0, 80, 130, 80]; % Vitesse (km/h)\n",
    "\n",
    "    % Paramètres de la simulation\n",
    "    N = 361; % Nombre de points\n",
    "    tend = setpoint.time(end); % Te\n",
    "    t = linspace(0, tend, N);\n",
    "    dt = t(2)-t(1);\n",
    "\n",
    "    % Caractéristiques du procédé (véhicule)\n",
    "    process.input.min = 0;\n",
    "    process.input.max = 100;\n",
    "\n",
    "    % Calcul des coefficients du modèle (continu et discret)\n",
    "    tau = -process.model.t100/log(1-100/process.model.vmax); % Constante de temps (s)\n",
    "    K = process.model.vmax; % Gain statique (km/h/%)\n",
    "    process.model.a = exp(-dt/tau); % Coefficient de l'équation aux différences\n",
    "    process.model.b = K*(1-process.model.a)/(process.input.max-process.input.min); % Coefficient de l'équation aux différences\n",
    "\n",
    "    % Valeurs initiales des variables\n",
    "    u = 0; y = 0; w = 0;\n",
    "    controller.e = 0; controller.se = 0;\n",
    "    sp = interp1(setpoint.time, setpoint.value, t, 'next', setpoint.value(end));\n",
    "\n",
    "    % Fonction de calcul de la sortie du régulateur (entrée du procédé)\n",
    "    function [value, controller] = calculateController(process, controller, w, y, step)\n",
    "        e = w(end) - y(end);\n",
    "        controller.se = controller.se + e*step;\n",
    "        de = (e-controller.e)/step;\n",
    "        controller.e = e;\n",
    "\n",
    "        value = controller.kp*controller.e + controller.ki*controller.se + controller.kd*de;\n",
    "        value = max(min(value, process.input.max), process.input.min);\n",
    "    end\n",
    "\n",
    "    % Boucle principale de calcul\n",
    "    for i=2:length(t)\n",
    "\n",
    "        % Calcul de la consigne (vitesse cible) à l'instant t\n",
    "        w = sp(1:i)';\n",
    "\n",
    "        % Calcul de la sortie du procédé (vitesse réelle) à l'instant t\n",
    "        y = [y; process.model.a*y(end) + process.model.b*u(end)];\n",
    "\n",
    "        % Calcul de la sortie du régulateur -> entrée du procédé (taux d'accélération)\n",
    "        [value, controller] = calculateController(process, controller, w, y, dt);\n",
    "        u = [u; value];\n",
    "    end\n",
    "\n",
    "    % Calcul du score\n",
    "    score = round(10*max(0, sum(abs(w))/sum(abs(w-y)) + 1000*mean(u)/sum(abs(mean(u)-u)) - 1000*length(find(u<=process.input.min | u>=process.input.max))/length(t)));\n",
    "    \n",
    "    % Affichage du résultat\n",
    "    disp(sprintf('kp = %.2f,  ki = %.2f,  kd  = %.2f  -->  Score = %d', controller.kp, controller.ki, controller.kd, score))\n",
    "\n",
    "    % Tracé des courbes\n",
    "    subplot(2,1,1); plot(t,u)\n",
    "    xlabel('temps (s)')\n",
    "    ylabel('position accelerateur (%)')\n",
    "    title(process.name)\n",
    "    subplot(2,1,2); plot(t,w,t,y)\n",
    "    xlabel('temps (s)')\n",
    "    ylabel('vitesse (km/h)')\n",
    "    legend('consigne', 'mesure')\n",
    "\n",
    "end"
   ]
  },
  {
   "cell_type": "markdown",
   "metadata": {},
   "source": [
    "### 2ème étape : modifier les valeurs des paramètres du régulateur\n",
    "1. Dans la deuxième cellule de code (ci-dessous), modifiez les valeurs des variables `kp`, `ki`, `kd`, qui correspondent respectivement aux paramètres $k_P$, $k_I$, et $k_D$ du régulateur PID. Dans un premier temps vous pouvez bien sûr exécuter le code avec les valeurs initiales fournies.\n",
    "2. Exécutez le code de cette cellule (lorsqu'elle est sélectionnée) en cliquant sur `Run`![Image](images/run.png) dans la barre d'outils, ou bien en appuyant sur les touches `maj`+`entrée`.\n",
    "3. Observez le résultat (score et graphiques), et recommencez jusqu'à ce que le résultat vous paraisse satisfaisant.\n",
    "\n",
    "Si vous obtenez le message d'erreur `error: 'simulateCloseLoop' undefined` au lieu de résultats, c'est que vous n'avez pas réalisé la première étape.\n",
    "\n",
    "Note : il est possible que vous obteniez un score de 0 alors qu'il vous semble que la régulation est correcte. Il y a toujours une raison ! Essayez de comprendre ce qui ne va pas d'après les graphiques, et réajustez les paramètres du régulateur en conséquence."
   ]
  },
  {
   "cell_type": "code",
   "execution_count": null,
   "metadata": {},
   "outputs": [],
   "source": [
    "%------------------------------------------------------------------------------------------\n",
    "% Deuxième cellule de code\n",
    "%------------------------------------------------------------------------------------------\n",
    "% Vous DEVEZ modifier les valeurs de kp, ki, kd dans cette cellule puis l'exécuter (run)\n",
    "% pour calculer et afficher les résultats (qui apparaîtront en dessous de la cellule) \n",
    "%------------------------------------------------------------------------------------------\n",
    "clear \n",
    "\n",
    "% Paramètres du régulateur PID\n",
    "kp = 1.0;\n",
    "ki = 1.0;\n",
    "kd = 1.0;\n",
    "\n",
    "%------------------------------------------------------------------------------------------\n",
    "% Ne modifiez PAS ce qui suit\n",
    "%------------------------------------------------------------------------------------------\n",
    "% Lancement de la simulation\n",
    "simulateCloseLoop([kp, ki, kd]);"
   ]
  },
  {
   "cell_type": "markdown",
   "metadata": {},
   "source": [
    "### 3ème étape : conserver et soumettre votre meilleur résultat\n",
    "Vous pouvez interrompre vos tentatives à tout moment et recommencer plus tard. Avant de fermer le notebook, enregistrez les modifications en cliquant sur `Save`![Image](images/save.png) (raccourci clavier : `ctrl`+`S`).\n",
    "\n",
    "Lorsque vous pensez avoir obtenu le meilleur résultat possible : revenez sur __[la page Moodle MCPRO](https://moodle.bordeaux-inp.fr/course/view.php?id=4&section=3)__, ouvrez le formulaire \"__[Réglage d'un régulateur PID : vos réponses](https://moodle.bordeaux-inp.fr/mod/questionnaire/view.php?id=51272)__\", et inscrivez vos valeurs de $k_P$, $k_I$, $k_D$, et du score, **sur la deuxième page** du formulaire. Vous pouvez enregistrer ce formulaire est y revenir plus tard, avant de le soumettre définitivement."
   ]
  },
  {
   "cell_type": "code",
   "execution_count": null,
   "metadata": {},
   "outputs": [],
   "source": []
  }
 ],
 "metadata": {
  "kernelspec": {
   "display_name": "Octave",
   "language": "octave",
   "name": "octave"
  },
  "language_info": {
   "file_extension": ".m",
   "help_links": [
    {
     "text": "GNU Octave",
     "url": "https://www.gnu.org/software/octave/support.html"
    },
    {
     "text": "Octave Kernel",
     "url": "https://github.com/Calysto/octave_kernel"
    },
    {
     "text": "MetaKernel Magics",
     "url": "https://metakernel.readthedocs.io/en/latest/source/README.html"
    }
   ],
   "mimetype": "text/x-octave",
   "name": "octave",
   "version": "4.2.2"
  }
 },
 "nbformat": 4,
 "nbformat_minor": 4
}
