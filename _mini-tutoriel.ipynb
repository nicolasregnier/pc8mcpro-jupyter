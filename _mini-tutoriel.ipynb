{
 "cells": [
  {
   "cell_type": "markdown",
   "metadata": {},
   "source": [
    "[PC7ITSMO](https://moodle.bordeaux-inp.fr/course/view.php?id=4&section=1) - [PC7TPITS](https://moodle.bordeaux-inp.fr/course/view.php?id=4&section=2) Instrumentation, Traitement du Signal, et Modélisation $\\bullet$ [PC8MCPRO](https://moodle.bordeaux-inp.fr/course/view.php?id=4&section=3) - [PC8TPMCP](https://moodle.bordeaux-inp.fr/course/view.php?id=4&section=4) Modélisation et Conduite de Procédés $\\bullet$ ENSCBP - Bordeaux INP $\\bullet$ [Nicolas Régnier](mailto:nicolas.regnier@enscbp.fr)\n",
    "***\n",
    "<br>"
   ]
  },
  {
   "cell_type": "markdown",
   "metadata": {},
   "source": [
    "# Mini tutoriel\n",
    "Vous venez d'ouvrir un \"Notebook Jupyter\" ! Un notebook est un document interactif qui contient du texte (ce paragraphe par exemple), du code informatique (dans un langage de programmation donné), et le résultat de l'exécution de ce code. Vous pouvez modifier le code existant et l'exécuter, ou ajouter votre propre code, pour expérimenter diverses méthodes de traitement numérique par exemple. \n",
    "\n",
    "Les notebooks proposés ici contiennent des exemples et exercices d'applications des cours [PC7ITSMO](https://moodle.bordeaux-inp.fr/course/view.php?id=4&section=1) et [PC8MCPRO](https://moodle.bordeaux-inp.fr/course/view.php?id=4&section=3), écrits en langage Matlab/Octave ; ils vous permettent également d'apprendre ou d'approfondir l'usage des outils et méthodes mis en oeuvre en travaux pratiques [PC7TPITS](https://moodle.bordeaux-inp.fr/course/view.php?id=4&section=2) et [PC8TPMCP](https://moodle.bordeaux-inp.fr/course/view.php?id=4&section=4). N'hésitez pas à expérimenter vous-mêmes !\n",
    "\n",
    "Un notebook est organisé en \"cellules\" qui contiennent soit du code, soit du texte."
   ]
  },
  {
   "cell_type": "code",
   "execution_count": null,
   "metadata": {},
   "outputs": [],
   "source": [
    "% -----------------------------------------------------%\n",
    "% Ceci est un exemple de cellule de code Matlab/Octave %\n",
    "% -----------------------------------------------------%\n",
    "%   1) cliquez dans cette cellule pour la sélectionner.\n",
    "%   2) cliquez sur 'Run' dans la barre d'outil pour exécuter le code que contient la cellule et afficher le résultat.\n",
    "%   3) optionnellement, modifiez le code et exécutez-le à nouveau.\n",
    "\n",
    "disp('Hello world!');\n",
    "sombrero ();"
   ]
  },
  {
   "cell_type": "markdown",
   "metadata": {},
   "source": [
    "Pour en savoir plus sur le langage Matlab/Octave, consultez le [Guide des fonctions Matlab](_guide-matlab.ipynb)."
   ]
  },
  {
   "cell_type": "markdown",
   "metadata": {},
   "source": [
    "***\n",
    "*Ceci est un exemple de cellule de texte*\n",
    "***\n",
    "1. **double-cliquez** dans cette cellule pour passer en mode édition : son contenu est alors affiché sous forme de langage de mise en forme \"markdown\".\n",
    "2. cliquez sur 'Run' dans la barre d'outil pour réaliser la mise en forme du texte et afficher le résultat.\n",
    "<br>(vous pouvez faire la même chose avec la première cellule de ce notebook !)\n",
    "3. optionnellement, modifiez le code markdown et affichez à nouveau le résultat. Pour en savoir plus sur le langage markdown : dans le menu `Help`, cliquez sur `Markdown Reference`."
   ]
  },
  {
   "cell_type": "markdown",
   "metadata": {},
   "source": [
    "## En résumé :\n",
    "- Pour **modifier** le contenu d'une cellule contenant du code, cliquez *dans* la cellule (pour une cellule de texte, *double-cliquez* dans la cellule).\n",
    "- Pour **exécuter** le code d'une cellule, cliquez sur la cellule puis sur `Run`![Image](images/run.png) dans la barre d'outils, ou bien appuyer sur les touches `maj`+`entrée`.\n",
    "- Vous pouvez **ajouter** des cellules en cliquant sur `Insert`![Image](images/insert.png) (raccourci clavier : `A` ou `B` lorsqu'aucune cellule n'est en mode édition), **supprimer** des cellules en cliquant sur `Cut` ![Image](images/cut.png) (raccourci clavier : `X`), etc.\n",
    "- Vous pouvez **changer** le type d'une cellule en la sélectionnant (cliquez dessus) et en utilisant le menu déroulant en haut de la fenêtre : `Code` pour du code, `Markdown` pour du texte.\n",
    "- N'oubliez pas de cliquer sur `Save`![Image](images/save.png) (raccourci clavier : `ctrl`+`S`) si vous souhaitez **enregistrer** les modifications apportées à votre notebook.\n",
    "- Enfin vous pouvez **télécharger** une copie de votre notebook contenant vos modifications et vos résultats, en utilisant le menu `File` > `Export Notebook As...` (choisissez par exemple le format PDF)."
   ]
  },
  {
   "cell_type": "code",
   "execution_count": null,
   "metadata": {},
   "outputs": [],
   "source": []
  }
 ],
 "metadata": {
  "celltoolbar": "Éditer les Méta-Données",
  "kernelspec": {
   "display_name": "Octave",
   "language": "octave",
   "name": "octave"
  },
  "language_info": {
   "file_extension": ".m",
   "help_links": [
    {
     "text": "GNU Octave",
     "url": "https://www.gnu.org/software/octave/support.html"
    },
    {
     "text": "Octave Kernel",
     "url": "https://github.com/Calysto/octave_kernel"
    },
    {
     "text": "MetaKernel Magics",
     "url": "https://metakernel.readthedocs.io/en/latest/source/README.html"
    }
   ],
   "mimetype": "text/x-octave",
   "name": "octave",
   "version": "4.2.2"
  }
 },
 "nbformat": 4,
 "nbformat_minor": 4
}
